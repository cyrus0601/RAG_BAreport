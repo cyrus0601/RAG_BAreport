{
 "cells": [
  {
   "cell_type": "markdown",
   "metadata": {},
   "source": [
    "# x news crawler"
   ]
  },
  {
   "cell_type": "code",
   "execution_count": 76,
   "metadata": {},
   "outputs": [],
   "source": [
    "import requests\n",
    "import pandas as pd\n",
    "from bs4 import BeautifulSoup\n",
    "from datetime import datetime"
   ]
  },
  {
   "cell_type": "code",
   "execution_count": 18,
   "metadata": {},
   "outputs": [],
   "source": [
    "url = ''"
   ]
  },
  {
   "cell_type": "code",
   "execution_count": null,
   "metadata": {},
   "outputs": [],
   "source": [
    "res = requests.get(url)\n",
    "res = res.json()\n",
    "res = res['Data']\n",
    "res = [(item['Name'], item['Created']) for item in res]\n",
    "res = [item for item in res if item[1] >= '2018-01-01']\n",
    "res"
   ]
  },
  {
   "cell_type": "markdown",
   "metadata": {},
   "source": [
    "# y news crawler"
   ]
  },
  {
   "cell_type": "code",
   "execution_count": null,
   "metadata": {},
   "outputs": [],
   "source": [
    "url = ''\n",
    "res = requests.get(url)\n",
    "soup = BeautifulSoup(res.text, 'html.parser')\n",
    "soup\n",
    "\n",
    "news_items = soup.find_all('div', class_='news-list')\n",
    "y_news = []\n",
    "for item in news_items:\n",
    "    day = item.find('h3', class_='news-date').get_text(strip=True)\n",
    "    year_month = item.find('h4', class_='news-year').get_text(strip=True)\n",
    "    title = item.find('h2', class_='news-list-title').get_text(strip=True)\n",
    "\n",
    "    # transform date format\n",
    "    full_date_str = year_month.split()[0]  # get the year and month\n",
    "    date_obj = datetime.strptime(full_date_str, \"%Y.%m.%d\")\n",
    "    formatted_date = date_obj.strftime(\"%Y-%m-%d\")\n",
    "\n",
    "    y_news.append((title, formatted_date))\n",
    "\n",
    "y_news"
   ]
  }
 ],
 "metadata": {
  "kernelspec": {
   "display_name": "p1",
   "language": "python",
   "name": "python3"
  },
  "language_info": {
   "codemirror_mode": {
    "name": "ipython",
    "version": 3
   },
   "file_extension": ".py",
   "mimetype": "text/x-python",
   "name": "python",
   "nbconvert_exporter": "python",
   "pygments_lexer": "ipython3",
   "version": "3.12.4"
  }
 },
 "nbformat": 4,
 "nbformat_minor": 2
}
