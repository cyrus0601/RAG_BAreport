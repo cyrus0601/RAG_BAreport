{
 "cells": [
  {
   "cell_type": "code",
   "execution_count": 19,
   "metadata": {},
   "outputs": [],
   "source": [
    "import pandas as pd\n",
    "import matplotlib.pyplot as plt\n",
    "import requests\n",
    "from io import StringIO\n",
    "import time\n",
    "from datetime import datetime\n",
    "from tqdm import tqdm\n",
    "import pdfplumber"
   ]
  },
  {
   "cell_type": "code",
   "execution_count": 20,
   "metadata": {},
   "outputs": [],
   "source": [
    "def monthly_report(year, month):\n",
    "    \n",
    "    if year > 1990:\n",
    "        year -= 1911\n",
    "    \n",
    "    url = 'https://mops.twse.com.tw/nas/t21/sii/t21sc03_'+str(year)+'_'+str(month)+'_0.html'\n",
    "\n",
    "    if year <= 98:\n",
    "        url = 'https://mops.twse.com.tw/nas/t21/sii/t21sc03_'+str(year)+'_'+str(month)+'.html'\n",
    "\n",
    "    headers = {'User-Agent': 'Mozilla/5.0 (Macintosh; Intel Mac OS X 10_10_1) AppleWebKit/537.36 (KHTML, like Gecko) Chrome/39.0.2171.95 Safari/537.36'}\n",
    "    \n",
    "    # 下載該年月的網站，並用pandas轉換成dataframe\n",
    "    r = requests.get(url, headers=headers)\n",
    "    r.encoding = 'big5'\n",
    "    dfs = pd.read_html(StringIO(r.text), encoding='big-5')\n",
    "    df = pd.concat([df for df in dfs if df.shape[1] <= 11 and df.shape[1] > 5])\n",
    "    \n",
    "    # if it's multiindex then replace it by next index\n",
    "    if 'levels' in dir(df.columns):\n",
    "        df.columns = df.columns.get_level_values(1)\n",
    "    else:\n",
    "        df = df[list(range(0,10))]\n",
    "        column_index = df.index[(df[0] == '公司代號')][0]\n",
    "        df.columns = df.iloc[column_index]\n",
    "    \n",
    "    df['當月營收'] = pd.to_numeric(df['當月營收'], 'coerce')\n",
    "    df = df[~df['當月營收'].isnull()]\n",
    "    df = df[df['公司 代號'] != '合計']\n",
    "    x = pd.DataFrame(df[df['公司 代號'] == ''])\n",
    "    y = pd.DataFrame(df[df['公司 代號'] == ''])\n",
    "    time.sleep(5)\n",
    "\n",
    "    return x, y"
   ]
  },
  {
   "cell_type": "code",
   "execution_count": 21,
   "metadata": {},
   "outputs": [
    {
     "name": "stderr",
     "output_type": "stream",
     "text": [
      "100%|██████████| 78/78 [07:11<00:00,  5.53s/it]\n"
     ]
    }
   ],
   "source": [
    "x = pd.DataFrame()\n",
    "y = pd.DataFrame()\n",
    "def get_data(x, y, start, end):\n",
    "    start_date = datetime.strptime(start, \"%Y-%m\")\n",
    "    end_date = datetime.strptime(end, \"%Y-%m\")\n",
    "    months_difference = (end_date.year - start_date.year) * 12 + end_date.month - start_date.month + 1\n",
    "    current_month = start_date.month\n",
    "    year = 0\n",
    "\n",
    "    for _ in tqdm(range(1, months_difference + 1)):\n",
    "        x_data, y_data = monthly_report(start_date.year + year, current_month)\n",
    "        date_value = f\"{start_date.year + year}-{current_month}\"\n",
    "        x_data['日期'] = date_value\n",
    "        y_data['日期'] = date_value\n",
    "        if y_data.empty:\n",
    "            # 如果空，用 'X' 填充\n",
    "            y_data = pd.DataFrame({\n",
    "                '公司 代號': [''],\n",
    "                '公司名稱': [''],\n",
    "                '當月營收': ['-'],\n",
    "                '上月營收': ['-'],\n",
    "                '去年當月營收': ['-'],\n",
    "                '上月比較 增減(%)': ['-'],\n",
    "                '去年同月 增減(%)': ['-'],\n",
    "                '當月累計營收': ['-'],\n",
    "                '去年累計營收': ['-'],\n",
    "                '前期比較 增減(%)': ['-'],\n",
    "                '備註': ['-'],\n",
    "                '日期': [date_value]\n",
    "            })\n",
    "        x = pd.concat([x, x_data], ignore_index=True)\n",
    "        y = pd.concat([y, y_data], ignore_index=True)\n",
    "        \n",
    "        if current_month == 12:\n",
    "            year += 1\n",
    "            current_month = 0\n",
    "        \n",
    "        current_month += 1\n",
    "        \n",
    "    return x.drop(['公司 代號','上月營收','上月比較 增減(%)','去年同月 增減(%)', '備註'], axis=1), y.drop(['公司 代號','上月營收','上月比較 增減(%)','去年同月 增減(%)', '備註'], axis=1)\n",
    "\n",
    "x, y = get_data(x, y, \"2018-1\", \"2024-6\")"
   ]
  },
  {
   "cell_type": "code",
   "execution_count": 22,
   "metadata": {},
   "outputs": [],
   "source": [
    "x.to_csv('.csv', index=False, encoding='utf-8-sig')\n",
    "y.to_csv('.csv', index=False, encoding='utf-8-sig')"
   ]
  },
  {
   "cell_type": "code",
   "execution_count": null,
   "metadata": {},
   "outputs": [],
   "source": [
    "x_from_csv = pd.read_csv('.csv',encoding='utf-8-sig')\n",
    "x_from_csv['日期'] = pd.to_datetime(x_from_csv['日期'], format='%Y-%m')\n",
    "\n",
    "filtered_data = x_from_csv[x_from_csv['日期'] >= '2018-1']\n",
    "\n",
    "plt.figure(figsize=(14, 8))\n",
    "plt.plot(filtered_data['日期'], filtered_data['當月營收'], marker='o', label='Revenue')\n",
    "plt.title('')\n",
    "plt.xlabel('Date')\n",
    "plt.ylabel('Revenue (10 billion)')\n",
    "plt.legend()\n",
    "plt.grid(True)\n",
    "plt.show()"
   ]
  },
  {
   "cell_type": "code",
   "execution_count": null,
   "metadata": {},
   "outputs": [],
   "source": [
    "def table_to_markdown(table):\n",
    "    df = pd.DataFrame(table[1:], columns=table[0])\n",
    "    return df.to_markdown(index=False)\n",
    "\n",
    "def extract_tables_to_markdown(pdf_file):\n",
    "    markdown_tables = []\n",
    "    with pdfplumber.open(pdf_file) as pdf:\n",
    "        for page in pdf.pages:\n",
    "            tables = page.extract_tables()\n",
    "            for table in tables:\n",
    "                markdown_table = table_to_markdown(table)\n",
    "                markdown_tables.append(markdown_table)\n",
    "    return markdown_tables\n",
    "\n",
    "# Replace with your PDF file path\n",
    "pdf_file = \"x_revenue_table.pdf\"\n",
    "markdown_tables = extract_tables_to_markdown(pdf_file)\n",
    "\n",
    "# Print extracted tables in Markdown format\n",
    "for i, table in enumerate(markdown_tables):\n",
    "    print(f\"Table {i+1}:\\n{table}\\n\")"
   ]
  },
  {
   "cell_type": "markdown",
   "metadata": {},
   "source": [
    "# Get total revenue every year"
   ]
  },
  {
   "cell_type": "code",
   "execution_count": 30,
   "metadata": {},
   "outputs": [],
   "source": [
    "def get_12_data(x, start, end):\n",
    "    start_date = datetime.strptime(start, \"%Y-%m\")\n",
    "    end_date = datetime.strptime(end, \"%Y-%m\")\n",
    "    months_difference = (end_date.year - start_date.year) * 12 + end_date.month - start_date.month + 1\n",
    "    current_month = start_date.month\n",
    "    year = 0\n",
    "\n",
    "    for _ in tqdm(range(1, months_difference + 1)):\n",
    "        if current_month == 12:\n",
    "            x_data, _ = monthly_report(start_date.year + year, current_month)\n",
    "            x_data['日期'] = start_date.year + year - 1911\n",
    "            x = pd.concat([x, x_data], ignore_index=True)\n",
    "        \n",
    "        if current_month == 12:\n",
    "            year += 1\n",
    "            current_month = 0\n",
    "        \n",
    "        current_month += 1\n",
    "        \n",
    "    return x.drop(['公司 代號','上月營收','上月比較 增減(%)','去年同月 增減(%)', '備註'], axis=1)\n",
    "\n",
    "x_salary = pd.DataFrame()  \n",
    "x= get_12_data(x_salary, \"2018-12\", \"2024-6\")\n",
    "\n",
    "x.to_csv('x_annual_revenue.csv', index=False, encoding='utf-8-sig')"
   ]
  }
 ],
 "metadata": {
  "kernelspec": {
   "display_name": "base",
   "language": "python",
   "name": "python3"
  },
  "language_info": {
   "codemirror_mode": {
    "name": "ipython",
    "version": 3
   },
   "file_extension": ".py",
   "mimetype": "text/x-python",
   "name": "python",
   "nbconvert_exporter": "python",
   "pygments_lexer": "ipython3",
   "version": "3.12.4"
  }
 },
 "nbformat": 4,
 "nbformat_minor": 2
}
