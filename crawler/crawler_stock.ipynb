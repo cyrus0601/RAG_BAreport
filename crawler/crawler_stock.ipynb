{
 "cells": [
  {
   "cell_type": "markdown",
   "metadata": {},
   "source": [
    "# Get stock price"
   ]
  },
  {
   "cell_type": "code",
   "execution_count": 1,
   "metadata": {},
   "outputs": [],
   "source": [
    "import pandas as pd\n",
    "import requests\n",
    "\n",
    "from tqdm import tqdm\n",
    "from datetime import datetime, timedelta\n"
   ]
  },
  {
   "cell_type": "code",
   "execution_count": 2,
   "metadata": {},
   "outputs": [],
   "source": [
    "headers = {'User-Agent': 'Mozilla/5.0 (Macintosh; Intel Mac OS X 10_10_1) AppleWebKit/537.36 (KHTML, like Gecko) Chrome/39.0.2171.95 Safari/537.36'}\n",
    "\n",
    "def get_friday_dates(start_date, end_date):\n",
    "    start_date = datetime.strptime(start_date, \"%Y%m%d\")\n",
    "    end_date = datetime.strptime(end_date, \"%Y%m%d\")\n",
    "    friday_dates = []\n",
    "\n",
    "    while start_date <= end_date:\n",
    "        if start_date.weekday() == 4:\n",
    "            friday_dates.append(start_date.strftime(\"%Y%m%d\"))\n",
    "        start_date += timedelta(days=1)\n",
    "    \n",
    "    return friday_dates\n",
    "\n",
    "fridays = get_friday_dates(\"20180101\", \"20240630\")"
   ]
  },
  {
   "cell_type": "code",
   "execution_count": 3,
   "metadata": {},
   "outputs": [
    {
     "name": "stderr",
     "output_type": "stream",
     "text": [
      "  0%|          | 0/339 [00:00<?, ?it/s]"
     ]
    },
    {
     "name": "stderr",
     "output_type": "stream",
     "text": [
      "100%|██████████| 339/339 [11:36<00:00,  2.06s/it]\n"
     ]
    }
   ],
   "source": [
    "x = pd.DataFrame()\n",
    "for date in tqdm(fridays):\n",
    "    url = f'https://www.twse.com.tw/rwd/zh/afterTrading/MI_INDEX?date={date}&type=ALL&response=csv'\n",
    "    res = requests.get(url, headers=headers)\n",
    "    data = res.text\n",
    "    s_data = data.split('\\n')\n",
    "    output = []\n",
    "    \n",
    "    for d in s_data:\n",
    "        _d = d.split('\",\"')\n",
    "        length = len(_d)\n",
    "        symbol = _d[0]\n",
    "        if length == 16 and symbol == '\\\"2379':\n",
    "            df = pd.DataFrame([_d])\n",
    "            df['date'] = date\n",
    "            x = pd.concat([x, df], ignore_index=True)\n",
    "\n"
   ]
  },
  {
   "cell_type": "code",
   "execution_count": 4,
   "metadata": {},
   "outputs": [],
   "source": [
    "df = x"
   ]
  },
  {
   "cell_type": "code",
   "execution_count": 5,
   "metadata": {},
   "outputs": [],
   "source": [
    "new_columns = [\"證券代號\", \"證券名稱\", \"成交股數\", \"成交筆數\", \"成交金額\", \"開盤價\", \"最高價\", \"最低價\", \"收盤價\", \"漲跌(+/-)\", \"漲跌價差\", \"最後揭示買價\", \"最後揭示買量\", \"最後揭示賣價\", \"最後揭示賣量\", \"本益比\", \"date\"]"
   ]
  },
  {
   "cell_type": "code",
   "execution_count": 6,
   "metadata": {},
   "outputs": [],
   "source": [
    "df.columns = new_columns\n",
    "df = df.iloc[:, [0, 1, 8, 16]]"
   ]
  },
  {
   "cell_type": "code",
   "execution_count": null,
   "metadata": {},
   "outputs": [],
   "source": [
    "x = df\n",
    "x"
   ]
  },
  {
   "cell_type": "code",
   "execution_count": 8,
   "metadata": {},
   "outputs": [],
   "source": [
    "x.to_csv(\"x_stock_price.csv\", index=False)"
   ]
  }
 ],
 "metadata": {
  "kernelspec": {
   "display_name": "p1",
   "language": "python",
   "name": "python3"
  },
  "language_info": {
   "codemirror_mode": {
    "name": "ipython",
    "version": 3
   },
   "file_extension": ".py",
   "mimetype": "text/x-python",
   "name": "python",
   "nbconvert_exporter": "python",
   "pygments_lexer": "ipython3",
   "version": "3.12.4"
  }
 },
 "nbformat": 4,
 "nbformat_minor": 2
}
