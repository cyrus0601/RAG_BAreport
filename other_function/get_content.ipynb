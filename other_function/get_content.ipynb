{
 "cells": [
  {
   "cell_type": "markdown",
   "metadata": {},
   "source": [
    "# pytesseract(OCR讀取)"
   ]
  },
  {
   "cell_type": "code",
   "execution_count": null,
   "metadata": {},
   "outputs": [],
   "source": [
    "import fitz  # PyMuPDF\n",
    "import pytesseract\n",
    "from PIL import Image\n",
    "import io\n",
    "pytesseract.pytesseract.tesseract_cmd = r'path to Tesseract-OCR'\n",
    "def pdf_page_to_image(pdf_path, page_number):\n",
    "    pdf_document = fitz.open(pdf_path)\n",
    "    page = pdf_document.load_page(page_number)\n",
    "    pix = page.get_pixmap()\n",
    "    image = Image.frombytes(\"RGB\", [pix.width, pix.height], pix.samples)\n",
    "    \n",
    "    return image\n",
    "\n",
    "def ocr_image(image):\n",
    "    text = pytesseract.image_to_string(image, lang='chi_tra+eng')  # 使用中文繁體和英文語言模型\n",
    "\n",
    "    return text\n",
    "\n",
    "pdf_path = '.pdf'  \n",
    "page_number = 2 \n",
    "\n",
    "# 將 PDF 頁面轉換為圖像\n",
    "image = pdf_page_to_image(pdf_path, page_number)\n",
    "\n",
    "# 使用 pytesseract 進行 OCR 來提取文本\n",
    "extracted_text = ocr_image(image)\n",
    "\n",
    "print(extracted_text) \n"
   ]
  },
  {
   "cell_type": "markdown",
   "metadata": {},
   "source": [
    "# Markdown 讀取"
   ]
  },
  {
   "cell_type": "code",
   "execution_count": 2,
   "metadata": {},
   "outputs": [
    {
     "data": {
      "text/plain": [
       "557597"
      ]
     },
     "execution_count": 2,
     "metadata": {},
     "output_type": "execute_result"
    }
   ],
   "source": [
    "# convert the document to markdown\n",
    "import pymupdf4llm\n",
    "import pathlib\n",
    "md_text = pymupdf4llm.to_markdown(\".pdf\")\n",
    "pathlib.Path(\".md\").write_bytes(md_text.encode())"
   ]
  }
 ],
 "metadata": {
  "kernelspec": {
   "display_name": "p1",
   "language": "python",
   "name": "python3"
  },
  "language_info": {
   "codemirror_mode": {
    "name": "ipython",
    "version": 3
   },
   "file_extension": ".py",
   "mimetype": "text/x-python",
   "name": "python",
   "nbconvert_exporter": "python",
   "pygments_lexer": "ipython3",
   "version": "3.12.4"
  }
 },
 "nbformat": 4,
 "nbformat_minor": 2
}
