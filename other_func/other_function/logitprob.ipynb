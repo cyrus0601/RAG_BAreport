{
 "cells": [
  {
   "cell_type": "code",
   "execution_count": 35,
   "metadata": {},
   "outputs": [],
   "source": [
    "from openai import OpenAI\n",
    "from math import exp\n",
    "import numpy as np\n",
    "import openai\n",
    "from IPython.display import display, HTML\n",
    "import os\n",
    "from openai import AzureOpenAI\n",
    "\n",
    "\n",
    "client = OpenAI()\n",
    "\n",
    "def get_completion(\n",
    "    messages: list[dict[str, str]],\n",
    "    model: str = \"gpt-4\",\n",
    "    max_tokens=500,\n",
    "    temperature=0,\n",
    "    stop=None,\n",
    "    seed=123,\n",
    "    tools=None,\n",
    "    logprobs=None,  # whether to return log probabilities of the output tokens or not. If true, returns the log probabilities of each output token returned in the content of message..\n",
    "    top_logprobs=None,\n",
    ") -> str:\n",
    "    params = {\n",
    "        \"model\": model,\n",
    "        \"messages\": messages,\n",
    "        \"max_tokens\": max_tokens,\n",
    "        \"temperature\": temperature,\n",
    "        \"stop\": stop,\n",
    "        \"seed\": seed,\n",
    "        \"logprobs\": logprobs,\n",
    "        \"top_logprobs\": top_logprobs,\n",
    "    }\n",
    "    if tools:\n",
    "        params[\"tools\"] = tools\n",
    "\n",
    "    completion = client.chat.completions.create(**params)\n",
    "    return completion\n"
   ]
  },
  {
   "cell_type": "code",
   "execution_count": 37,
   "metadata": {},
   "outputs": [
    {
     "data": {
      "text/html": [
       "<p>Sentence: My</p><p style=\"color:cyan\">Predicted next token:  favorite, <span style=\"color:darkorange\">logprobs: -0.6086919, <span style=\"color:magenta\">linear probability: 54.41%</span></p><p style=\"color:cyan\">Predicted next token: favorite, <span style=\"color:darkorange\">logprobs: -1.098377, <span style=\"color:magenta\">linear probability: 33.34%</span></p><p style=\"color:cyan\">Predicted next token: dog, <span style=\"color:darkorange\">logprobs: -3.5125215, <span style=\"color:magenta\">linear probability: 2.98%</span></p><br><p>Sentence: My least</p><p style=\"color:cyan\">Predicted next token:  favorite, <span style=\"color:darkorange\">logprobs: -0.19911145, <span style=\"color:magenta\">linear probability: 81.95%</span></p><p style=\"color:cyan\">Predicted next token: favorite, <span style=\"color:darkorange\">logprobs: -1.7773166, <span style=\"color:magenta\">linear probability: 16.91%</span></p><p style=\"color:cyan\">Predicted next token:  My, <span style=\"color:darkorange\">logprobs: -4.724809, <span style=\"color:magenta\">linear probability: 0.89%</span></p><br><p>Sentence: My least favorite</p><p style=\"color:cyan\">Predicted next token:  color, <span style=\"color:darkorange\">logprobs: -1.2956374, <span style=\"color:magenta\">linear probability: 27.37%</span></p><p style=\"color:cyan\">Predicted next token:  chore, <span style=\"color:darkorange\">logprobs: -1.7070239, <span style=\"color:magenta\">linear probability: 18.14%</span></p><p style=\"color:cyan\">Predicted next token:  food, <span style=\"color:darkorange\">logprobs: -1.7229483, <span style=\"color:magenta\">linear probability: 17.85%</span></p><br><p>Sentence: My least favorite TV</p><p style=\"color:cyan\">Predicted next token:  show, <span style=\"color:darkorange\">logprobs: -0.20497046, <span style=\"color:magenta\">linear probability: 81.47%</span></p><p style=\"color:cyan\">Predicted next token: show, <span style=\"color:darkorange\">logprobs: -1.703498, <span style=\"color:magenta\">linear probability: 18.2%</span></p><p style=\"color:cyan\">Predicted next token:  shows, <span style=\"color:darkorange\">logprobs: -6.8077135, <span style=\"color:magenta\">linear probability: 0.11%</span></p><br><p>Sentence: My least favorite TV show</p><p style=\"color:cyan\">Predicted next token:  is, <span style=\"color:darkorange\">logprobs: -0.102140635, <span style=\"color:magenta\">linear probability: 90.29%</span></p><p style=\"color:cyan\">Predicted next token: is, <span style=\"color:darkorange\">logprobs: -2.541712, <span style=\"color:magenta\">linear probability: 7.87%</span></p><p style=\"color:cyan\">Predicted next token:  of, <span style=\"color:darkorange\">logprobs: -4.8931694, <span style=\"color:magenta\">linear probability: 0.75%</span></p><br><p>Sentence: My least favorite TV show is</p><p style=\"color:cyan\">Predicted next token:  reality, <span style=\"color:darkorange\">logprobs: -0.85693395, <span style=\"color:magenta\">linear probability: 42.45%</span></p><p style=\"color:cyan\">Predicted next token:  \", <span style=\"color:darkorange\">logprobs: -1.5170768, <span style=\"color:magenta\">linear probability: 21.94%</span></p><p style=\"color:cyan\">Predicted next token: \", <span style=\"color:darkorange\">logprobs: -2.0532918, <span style=\"color:magenta\">linear probability: 12.83%</span></p><br><p>Sentence: My least favorite TV show is Breaking Bad</p><p style=\"color:cyan\">Predicted next token: ., <span style=\"color:darkorange\">logprobs: -0.49911264, <span style=\"color:magenta\">linear probability: 60.71%</span></p><p style=\"color:cyan\">Predicted next token:  because, <span style=\"color:darkorange\">logprobs: -1.1670775, <span style=\"color:magenta\">linear probability: 31.13%</span></p><p style=\"color:cyan\">Predicted next token: ,, <span style=\"color:darkorange\">logprobs: -3.487947, <span style=\"color:magenta\">linear probability: 3.06%</span></p><br>"
      ],
      "text/plain": [
       "<IPython.core.display.HTML object>"
      ]
     },
     "metadata": {},
     "output_type": "display_data"
    }
   ],
   "source": [
    "sentence_list = [\n",
    "    \"My\",\n",
    "    \"My least\",\n",
    "    \"My least favorite\",\n",
    "    \"My least favorite TV\",\n",
    "    \"My least favorite TV show\",\n",
    "    \"My least favorite TV show is\",\n",
    "    \"My least favorite TV show is Breaking Bad\",\n",
    "]\n",
    "\n",
    "high_prob_completions = {}\n",
    "low_prob_completions = {}\n",
    "html_output = \"\"\n",
    "\n",
    "for sentence in sentence_list:\n",
    "    PROMPT = \"\"\"Complete this sentence. You are acting as auto-complete. Simply complete the sentence to the best of your ability, make sure it is just ONE sentence: {sentence}\"\"\"\n",
    "    API_RESPONSE = client.chat.completions.create(\n",
    "        messages = [{\"role\": \"user\", \"content\": PROMPT.format(sentence=sentence)}],\n",
    "        model=\"gpt-3.5-turbo\",\n",
    "        logprobs=True,\n",
    "        top_logprobs=3,\n",
    "    )\n",
    "    html_output += f'<p>Sentence: {sentence}</p>'\n",
    "    first_token = True\n",
    "    for token in API_RESPONSE.choices[0].logprobs.content[0].top_logprobs:\n",
    "        html_output += f'<p style=\"color:cyan\">Predicted next token: {token.token}, <span style=\"color:darkorange\">logprobs: {token.logprob}, <span style=\"color:magenta\">linear probability: {np.round(np.exp(token.logprob)*100,2)}%</span></p>'\n",
    "        if first_token:\n",
    "            if np.exp(token.logprob) > 0.95:\n",
    "                high_prob_completions[sentence] = token.token\n",
    "            if np.exp(token.logprob) < 0.60:\n",
    "                low_prob_completions[sentence] = token.token\n",
    "        first_token = False\n",
    "    html_output += \"<br>\"\n",
    "\n",
    "display(HTML(html_output))"
   ]
  }
 ],
 "metadata": {
  "kernelspec": {
   "display_name": "p1",
   "language": "python",
   "name": "python3"
  },
  "language_info": {
   "codemirror_mode": {
    "name": "ipython",
    "version": 3
   },
   "file_extension": ".py",
   "mimetype": "text/x-python",
   "name": "python",
   "nbconvert_exporter": "python",
   "pygments_lexer": "ipython3",
   "version": "3.11.7"
  }
 },
 "nbformat": 4,
 "nbformat_minor": 2
}
